{
 "cells": [
  {
   "cell_type": "code",
   "execution_count": null,
   "metadata": {},
   "outputs": [],
   "source": [
    "from skimage import io, transform\n",
    "import glob\n",
    "import os\n",
    "import matplotlib.pyplot as plt\n",
    "import tensorflow as tf\n",
    "import numpy as np\n",
    "import math\n",
    "from tensorflow.python import keras\n",
    "from keras import Sequential, Model\n",
    "from keras.layers import InputLayer, Input, Reshape, MaxPooling2D, Conv2D, Dense, Flatten, Dropout, BatchNormalization, GlobalAveragePooling2D\n",
    "from keras import optimizers\n",
    "from keras import applications"
   ]
  },
  {
   "cell_type": "code",
   "execution_count": null,
   "metadata": {},
   "outputs": [],
   "source": [
    "IMG_SIZE = 56\n",
    "IMG_SHAPE = (IMG_SIZE, IMG_SIZE)\n",
    "NUM_CLASS = 5\n",
    "NUM_CHANNELS = 3\n",
    "IMG_SHAPE_FULL = (IMG_SIZE, IMG_SIZE, NUM_CHANNELS)"
   ]
  },
  {
   "cell_type": "code",
   "execution_count": null,
   "metadata": {},
   "outputs": [],
   "source": [
    "def read_imgs(path):\n",
    "    euro_dirs = [path + '/' + x for x in os.listdir(path) if os.path.isdir(path + '/' + x)]\n",
    "    imgs = list()\n",
    "    labels = list()\n",
    "    for idx, folder in enumerate(euro_dirs):\n",
    "        for filename in glob.glob(folder + '/*.jp*g'):\n",
    "            img = io.imread(filename)\n",
    "            img = transform.resize(img, IMG_SHAPE)\n",
    "            \n",
    "            imgs.append(img)\n",
    "            labels.append(idx)\n",
    "            \n",
    "    return np.asarray(imgs, np.float32), np.asarray(labels, np.int32)\n",
    "\n",
    "imgs, cls = read_imgs('./data/coins')"
   ]
  },
  {
   "cell_type": "code",
   "execution_count": null,
   "metadata": {},
   "outputs": [],
   "source": [
    "labels = np.zeros((cls.size, 5))\n",
    "labels[np.arange(cls.size), cls] = 1\n",
    "\n",
    "indices = np.arange(imgs.shape[0])\n",
    "np.random.shuffle(indices)\n",
    "imgs = imgs[indices]\n",
    "labels = labels[indices]\n",
    "\n",
    "ratio = 0.8\n",
    "s = int(imgs.shape[0] * ratio)\n",
    "x_train = imgs[:s]\n",
    "y_train = labels[:s]\n",
    "x_test = imgs[s:]\n",
    "y_test = labels[s:]"
   ]
  },
  {
   "cell_type": "code",
   "execution_count": null,
   "metadata": {},
   "outputs": [],
   "source": [
    "# Start construction of the Keras Sequential model.\n",
    "model = Sequential()\n",
    "\n",
    "model.add(InputLayer(input_shape=IMG_SHAPE_FULL))\n",
    "\n",
    "model.add(Conv2D(kernel_size=5, strides=1, filters=4, padding='same', activation='relu'))\n",
    "model.add(MaxPooling2D(pool_size=2, strides=2))\n",
    "\n",
    "model.add(Conv2D(kernel_size=5, strides=1, filters=4, padding='same', activation='relu'))\n",
    "model.add(MaxPooling2D(pool_size=2, strides=2))\n",
    "\n",
    "model.add(Flatten())\n",
    "model.add(Dense(5, activation='softmax'))\n",
    "\n",
    "model.compile(optimizer='rmsprop', loss='categorical_crossentropy', metrics=['accuracy'])"
   ]
  },
  {
   "cell_type": "code",
   "execution_count": null,
   "metadata": {
    "scrolled": false
   },
   "outputs": [],
   "source": [
    "model.fit(x=x_train,\n",
    "          y=y_train,\n",
    "          validation_split=0.2,\n",
    "          epochs=20, batch_size=512)"
   ]
  },
  {
   "cell_type": "code",
   "execution_count": null,
   "metadata": {},
   "outputs": [],
   "source": [
    "result = model.evaluate(x=x_test, y=y_test, batch_size=512)\n",
    "for name, value in zip(model.metrics_names, result):\n",
    "    print(name, value)"
   ]
  },
  {
   "cell_type": "code",
   "execution_count": null,
   "metadata": {},
   "outputs": [],
   "source": [
    "session = backend.get_session()\n",
    "constant_graph = graph_util.convert_variables_to_constants(session, session.graph_def, [out.op.name for out in model.outputs])\n",
    "\n",
    "with tf.gfile.FastGFile('./data/model.pb', mode='wb') as f:\n",
    "    f.write(constant_graph.SerializeToString()),\n",
    "    \n",
    "tflite_model = tf.contrib.lite.toco_convert(constant_graph, model.inputs, model.outputs),\n",
    "with open('../CoinCounter/Data/model2.tflite', 'wb') as f:\n",
    "    f.write(tflite_model)\n"
   ]
  }
 ],
 "metadata": {
  "kernelspec": {
   "display_name": "Python 3",
   "language": "python",
   "name": "python3"
  },
  "language_info": {
   "codemirror_mode": {
    "name": "ipython",
    "version": 3
   },
   "file_extension": ".py",
   "mimetype": "text/x-python",
   "name": "python",
   "nbconvert_exporter": "python",
   "pygments_lexer": "ipython3",
   "version": "3.6.5"
  }
 },
 "nbformat": 4,
 "nbformat_minor": 2
}
